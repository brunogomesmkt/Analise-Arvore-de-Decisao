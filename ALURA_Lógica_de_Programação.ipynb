{
  "nbformat": 4,
  "nbformat_minor": 0,
  "metadata": {
    "colab": {
      "name": "ALURA Lógica de Programação.ipynb",
      "provenance": [],
      "authorship_tag": "ABX9TyOvsPAg262qufuoFLC/vnrx",
      "include_colab_link": true
    },
    "kernelspec": {
      "name": "python3",
      "display_name": "Python 3"
    }
  },
  "cells": [
    {
      "cell_type": "markdown",
      "metadata": {
        "id": "view-in-github",
        "colab_type": "text"
      },
      "source": [
        "<a href=\"https://colab.research.google.com/github/brunogomesmkt/Analise-Arvore-de-Decisao/blob/main/ALURA_L%C3%B3gica_de_Programa%C3%A7%C3%A3o.ipynb\" target=\"_parent\"><img src=\"https://colab.research.google.com/assets/colab-badge.svg\" alt=\"Open In Colab\"/></a>"
      ]
    },
    {
      "cell_type": "markdown",
      "metadata": {
        "id": "jBwxbxwhEy-9"
      },
      "source": [
        "**Lógica de Programação**"
      ]
    },
    {
      "cell_type": "code",
      "metadata": {
        "id": "pFBIdql8ChsR"
      },
      "source": [
        "NOME = 'BRUNO'"
      ],
      "execution_count": null,
      "outputs": []
    },
    {
      "cell_type": "code",
      "metadata": {
        "id": "8HZGfkhpE3P5"
      },
      "source": [
        "1+1\n"
      ],
      "execution_count": null,
      "outputs": []
    },
    {
      "cell_type": "code",
      "metadata": {
        "colab": {
          "base_uri": "https://localhost:8080/",
          "height": 35
        },
        "id": "KvCY7VfbHX6r",
        "outputId": "b44dd404-5fbf-482d-a0ba-890e2cd9b354"
      },
      "source": [
        "NOME"
      ],
      "execution_count": null,
      "outputs": [
        {
          "output_type": "execute_result",
          "data": {
            "application/vnd.google.colaboratory.intrinsic+json": {
              "type": "string"
            },
            "text/plain": [
              "'BRUNO'"
            ]
          },
          "metadata": {
            "tags": []
          },
          "execution_count": 4
        }
      ]
    },
    {
      "cell_type": "code",
      "metadata": {
        "id": "ga1YZ8bFHZUS"
      },
      "source": [
        "IDADE = 34\n"
      ],
      "execution_count": null,
      "outputs": []
    },
    {
      "cell_type": "code",
      "metadata": {
        "colab": {
          "base_uri": "https://localhost:8080/"
        },
        "id": "vix-WBrAIVCp",
        "outputId": "3c43bfd7-9146-4d27-cc10-a1f7f6a81fee"
      },
      "source": [
        "print(f'O nome é {NOME} e sua idade é {IDADE} anos')"
      ],
      "execution_count": null,
      "outputs": [
        {
          "output_type": "stream",
          "text": [
            "O nome é BRUNO e sua idade é 35 anos\n"
          ],
          "name": "stdout"
        }
      ]
    },
    {
      "cell_type": "code",
      "metadata": {
        "colab": {
          "base_uri": "https://localhost:8080/"
        },
        "id": "WUnNxssAIURB",
        "outputId": "3806d702-8dac-4597-a922-4c1a226b98e9"
      },
      "source": [
        "IDADE"
      ],
      "execution_count": null,
      "outputs": [
        {
          "output_type": "execute_result",
          "data": {
            "text/plain": [
              "34"
            ]
          },
          "metadata": {
            "tags": []
          },
          "execution_count": 6
        }
      ]
    },
    {
      "cell_type": "code",
      "metadata": {
        "id": "3Y1G9duzMpUF"
      },
      "source": [
        "IDADE = 35\n"
      ],
      "execution_count": null,
      "outputs": []
    },
    {
      "cell_type": "code",
      "metadata": {
        "colab": {
          "base_uri": "https://localhost:8080/"
        },
        "id": "cT_y3Y62Njrl",
        "outputId": "50a59214-ba1d-48b8-fbc4-2d9b72527255"
      },
      "source": [
        "print(f'O nome é {NOME} e sua idade é {IDADE} anos')"
      ],
      "execution_count": null,
      "outputs": [
        {
          "output_type": "stream",
          "text": [
            "O nome é BRUNO e sua idade é 35 anos\n"
          ],
          "name": "stdout"
        }
      ]
    },
    {
      "cell_type": "markdown",
      "metadata": {
        "id": "Q4w81epYPFc7"
      },
      "source": [
        "**Cirando Minha Primeira Função**"
      ]
    },
    {
      "cell_type": "code",
      "metadata": {
        "id": "F6FyLpbEPJ-z"
      },
      "source": [
        "def saudacao():\n",
        "  nome = input ('Qual o seu nome?')\n",
        "  print(f'Olá {nome}')"
      ],
      "execution_count": null,
      "outputs": []
    },
    {
      "cell_type": "code",
      "metadata": {
        "colab": {
          "base_uri": "https://localhost:8080/"
        },
        "id": "Sn6XW01sh02d",
        "outputId": "eab587b3-1544-4219-8bfe-b4ace049d661"
      },
      "source": [
        "saudacao ()"
      ],
      "execution_count": null,
      "outputs": [
        {
          "output_type": "stream",
          "text": [
            "Qual o seu nome? Luis\n",
            "Olá Luis\n"
          ],
          "name": "stdout"
        }
      ]
    },
    {
      "cell_type": "code",
      "metadata": {
        "id": "8DMPwE3OtdP0",
        "colab": {
          "base_uri": "https://localhost:8080/"
        },
        "outputId": "e332ff88-4208-4a6e-9958-a1880c0d5315"
      },
      "source": [
        "def nome_completo():\n",
        " primeiro_nome = input('Qual seu primeiro nome? ')\n",
        " sobrenome = input('Qual seu sobrenome? ')\n",
        " nome_inteiro = primeiro_nome + ' ' + sobrenome\n",
        " print(nome_inteiro)\n",
        "\n",
        "nome_completo()"
      ],
      "execution_count": null,
      "outputs": [
        {
          "output_type": "stream",
          "text": [
            "Qual seu primeiro nome? Bruno\n",
            "Qual seu sobrenome? Gomes da Silva\n",
            "Bruno Gomes da Silva\n"
          ],
          "name": "stdout"
        }
      ]
    },
    {
      "cell_type": "markdown",
      "metadata": {
        "id": "YqHW5e5BS3wC"
      },
      "source": [
        "**Parâmetros**\n"
      ]
    },
    {
      "cell_type": "code",
      "metadata": {
        "id": "7QccwziKxS6A"
      },
      "source": [
        "nome = 'Luiza'\n"
      ],
      "execution_count": null,
      "outputs": []
    },
    {
      "cell_type": "code",
      "metadata": {
        "id": "APtL8E9DQ_tM"
      },
      "source": [
        "def saudacao_com_parametro (nome_da_pessoa):\n",
        "  print (f'Olá {nome_da_pessoa}')"
      ],
      "execution_count": null,
      "outputs": []
    },
    {
      "cell_type": "code",
      "metadata": {
        "colab": {
          "base_uri": "https://localhost:8080/"
        },
        "id": "Ep6QOvzgR3UL",
        "outputId": "727db1b0-867d-4674-ac31-a24fa1797ab0"
      },
      "source": [
        "saudacao_com_parametro (nome)"
      ],
      "execution_count": null,
      "outputs": [
        {
          "output_type": "stream",
          "text": [
            "Olá Luiza\n"
          ],
          "name": "stdout"
        }
      ]
    },
    {
      "cell_type": "markdown",
      "metadata": {
        "id": "HpMfHy1zYm3i"
      },
      "source": [
        "**Condicional**\n"
      ]
    },
    {
      "cell_type": "code",
      "metadata": {
        "id": "Tk-talZPSP0K"
      },
      "source": [
        "idade = 14\n",
        "\n",
        "\n",
        "\n",
        "def verifica_se_pode_dirigir(idade) : \n",
        "  if idade >= 18:\n",
        "    \n",
        "    print('Tem permissão para dirigir')\n",
        "  else:\n",
        "    print('Não tem permissão para dirigir')\n",
        "    "
      ],
      "execution_count": null,
      "outputs": []
    },
    {
      "cell_type": "code",
      "metadata": {
        "colab": {
          "base_uri": "https://localhost:8080/"
        },
        "id": "fEIzEXh1a3tl",
        "outputId": "2044d6af-bca1-4c87-a59f-7e1c11b93a7b"
      },
      "source": [
        "verifica_se_pode_dirigir (idade)\n"
      ],
      "execution_count": null,
      "outputs": [
        {
          "output_type": "stream",
          "text": [
            "Não tem permissão para dirigir\n"
          ],
          "name": "stdout"
        }
      ]
    },
    {
      "cell_type": "markdown",
      "metadata": {
        "id": "_3NpOtMNts3a"
      },
      "source": [
        "**Convertendo Tipo para Inteiro**\n"
      ]
    },
    {
      "cell_type": "code",
      "metadata": {
        "id": "rFMhnKXttx-R"
      },
      "source": [
        "def verifica_se_pode_dirigir_sem_parametros() : \n",
        "  idade = input('Qual sua idade? ')\n",
        "  idade = int(idade)\n",
        "  if idade >= 18:\n",
        "    print('Tem permissão para dirigir')\n",
        "  else: \n",
        "      print('Não tem permissão para dirigir')"
      ],
      "execution_count": null,
      "outputs": []
    },
    {
      "cell_type": "markdown",
      "metadata": {
        "id": "4Cxa1LmE35GL"
      },
      "source": [
        ""
      ]
    },
    {
      "cell_type": "code",
      "metadata": {
        "colab": {
          "base_uri": "https://localhost:8080/"
        },
        "id": "Os-q7WNgzIy0",
        "outputId": "0733a234-67a5-4bf7-d7ce-440a940917d9"
      },
      "source": [
        "a = 5\n",
        "b = 3\n",
        "soma = a + b\n",
        "print(soma)"
      ],
      "execution_count": null,
      "outputs": [
        {
          "output_type": "stream",
          "text": [
            "8\n"
          ],
          "name": "stdout"
        }
      ]
    },
    {
      "cell_type": "code",
      "metadata": {
        "colab": {
          "base_uri": "https://localhost:8080/"
        },
        "id": "OYKWgNF4uo9H",
        "outputId": "9b729757-8319-4a28-a7c2-a2b8d145996c"
      },
      "source": [
        "verifica_se_pode_dirigir_sem_parametros()"
      ],
      "execution_count": null,
      "outputs": [
        {
          "output_type": "stream",
          "text": [
            "Qual sua idade? 20\n",
            "Tem permissão para dirigir\n"
          ],
          "name": "stdout"
        }
      ]
    },
    {
      "cell_type": "markdown",
      "metadata": {
        "id": "7IWkELsT4ObS"
      },
      "source": [
        "**Listas**\n",
        "\n"
      ]
    },
    {
      "cell_type": "code",
      "metadata": {
        "id": "XJATbc182h02"
      },
      "source": [
        "idade = 22"
      ],
      "execution_count": null,
      "outputs": []
    },
    {
      "cell_type": "code",
      "metadata": {
        "colab": {
          "base_uri": "https://localhost:8080/"
        },
        "id": "t9Fm9nSW4XsO",
        "outputId": "608337a2-015e-482a-8026-3f1e66efa886"
      },
      "source": [
        "idade"
      ],
      "execution_count": null,
      "outputs": [
        {
          "output_type": "execute_result",
          "data": {
            "text/plain": [
              "22"
            ]
          },
          "metadata": {
            "tags": []
          },
          "execution_count": 4
        }
      ]
    },
    {
      "cell_type": "code",
      "metadata": {
        "colab": {
          "base_uri": "https://localhost:8080/"
        },
        "id": "6avu4y6m4ckO",
        "outputId": "1ef9b173-10f6-4310-8511-f83ba99f0fc6"
      },
      "source": [
        "type(idade)"
      ],
      "execution_count": null,
      "outputs": [
        {
          "output_type": "execute_result",
          "data": {
            "text/plain": [
              "int"
            ]
          },
          "metadata": {
            "tags": []
          },
          "execution_count": 5
        }
      ]
    },
    {
      "cell_type": "code",
      "metadata": {
        "id": "ed_vjQGQ4k_e"
      },
      "source": [
        "nome = \"Guilherme\""
      ],
      "execution_count": null,
      "outputs": []
    },
    {
      "cell_type": "code",
      "metadata": {
        "colab": {
          "base_uri": "https://localhost:8080/"
        },
        "id": "iF6wCiJc4sTe",
        "outputId": "485f6773-1a7e-4dfc-af01-7cfa216a3c23"
      },
      "source": [
        "type(nome)"
      ],
      "execution_count": null,
      "outputs": [
        {
          "output_type": "execute_result",
          "data": {
            "text/plain": [
              "str"
            ]
          },
          "metadata": {
            "tags": []
          },
          "execution_count": 7
        }
      ]
    },
    {
      "cell_type": "code",
      "metadata": {
        "colab": {
          "base_uri": "https://localhost:8080/"
        },
        "id": "GeeutbaE4wc1",
        "outputId": "d4e7e73b-0e33-419e-e69f-27e98cfb3ed4"
      },
      "source": [
        "idades = [18, 22, 15, 50]\n",
        "type(idades) "
      ],
      "execution_count": null,
      "outputs": [
        {
          "output_type": "execute_result",
          "data": {
            "text/plain": [
              "list"
            ]
          },
          "metadata": {
            "tags": []
          },
          "execution_count": 11
        }
      ]
    },
    {
      "cell_type": "code",
      "metadata": {
        "colab": {
          "base_uri": "https://localhost:8080/"
        },
        "id": "qhhsa0ZQ46jV",
        "outputId": "84e95d69-75e0-4876-9e82-83a3e4a00f97"
      },
      "source": [
        "idades[2]"
      ],
      "execution_count": null,
      "outputs": [
        {
          "output_type": "execute_result",
          "data": {
            "text/plain": [
              "15"
            ]
          },
          "metadata": {
            "tags": []
          },
          "execution_count": 12
        }
      ]
    },
    {
      "cell_type": "code",
      "metadata": {
        "id": "c3_USGwC5aad"
      },
      "source": [
        "idades = [18, 22, 15, 50]\n",
        "#         0   1   2   3\n",
        "#         0  -3  -2  -1\n"
      ],
      "execution_count": null,
      "outputs": []
    },
    {
      "cell_type": "code",
      "metadata": {
        "colab": {
          "base_uri": "https://localhost:8080/"
        },
        "id": "S0wreAHM56pb",
        "outputId": "efbd9025-cf51-4ea9-fb27-a62472259823"
      },
      "source": [
        "idades[1]"
      ],
      "execution_count": null,
      "outputs": [
        {
          "output_type": "execute_result",
          "data": {
            "text/plain": [
              "22"
            ]
          },
          "metadata": {
            "tags": []
          },
          "execution_count": 15
        }
      ]
    },
    {
      "cell_type": "code",
      "metadata": {
        "colab": {
          "base_uri": "https://localhost:8080/"
        },
        "id": "cd0yQTFG58zy",
        "outputId": "11c55c62-5eb5-4c19-cda0-367d7df40cda"
      },
      "source": [
        "idades[0:3]"
      ],
      "execution_count": null,
      "outputs": [
        {
          "output_type": "execute_result",
          "data": {
            "text/plain": [
              "[18, 22, 15]"
            ]
          },
          "metadata": {
            "tags": []
          },
          "execution_count": 17
        }
      ]
    },
    {
      "cell_type": "code",
      "metadata": {
        "colab": {
          "base_uri": "https://localhost:8080/"
        },
        "id": "QwwrR1OC6OUc",
        "outputId": "5ab0c4b5-2c6f-4668-ad23-233d9bbe80c5"
      },
      "source": [
        "idades[1:]"
      ],
      "execution_count": null,
      "outputs": [
        {
          "output_type": "execute_result",
          "data": {
            "text/plain": [
              "[22, 15, 50]"
            ]
          },
          "metadata": {
            "tags": []
          },
          "execution_count": 20
        }
      ]
    },
    {
      "cell_type": "code",
      "metadata": {
        "colab": {
          "base_uri": "https://localhost:8080/"
        },
        "id": "27hJzMPr6kZL",
        "outputId": "32194ef6-4d78-42b5-f035-cf8711a05cdf"
      },
      "source": [
        "idades[-1]"
      ],
      "execution_count": null,
      "outputs": [
        {
          "output_type": "execute_result",
          "data": {
            "text/plain": [
              "50"
            ]
          },
          "metadata": {
            "tags": []
          },
          "execution_count": 21
        }
      ]
    },
    {
      "cell_type": "code",
      "metadata": {
        "colab": {
          "base_uri": "https://localhost:8080/"
        },
        "id": "aDLNFyzZ6zRL",
        "outputId": "a9f2ac0a-f30c-46e2-f61d-0c206c03b151"
      },
      "source": [
        "idades[-2]"
      ],
      "execution_count": null,
      "outputs": [
        {
          "output_type": "execute_result",
          "data": {
            "text/plain": [
              "15"
            ]
          },
          "metadata": {
            "tags": []
          },
          "execution_count": 22
        }
      ]
    },
    {
      "cell_type": "markdown",
      "metadata": {
        "id": "I4KJUlqgb2z7"
      },
      "source": [
        "**Listas e Loops**\n"
      ]
    },
    {
      "cell_type": "markdown",
      "metadata": {
        "id": "qANt0t8Ieccf"
      },
      "source": [
        "# for fora da função"
      ]
    },
    {
      "cell_type": "code",
      "metadata": {
        "colab": {
          "base_uri": "https://localhost:8080/"
        },
        "id": "tlRvQjPx7KLF",
        "outputId": "15089321-075a-4089-d1bf-566eb299bb48"
      },
      "source": [
        "def verifica_se_pode_dirigir(idade):    \n",
        "  if idade >=18:  \n",
        "    print(f'{idade} anos de idade, TEM permissão para dirigir')\n",
        "  else: \n",
        "    print(f'{idade} anos de idade, NÃO TEM permissão para dirigir')\n",
        "\n",
        "for idade in idades: \n",
        "    verifica_se_pode_dirigir(idade) \n"
      ],
      "execution_count": null,
      "outputs": [
        {
          "output_type": "stream",
          "text": [
            "18 anos de idade, TEM permissão para dirigir\n",
            "22 anos de idade, TEM permissão para dirigir\n",
            "15 anos de idade, NÃO TEM permissão para dirigir\n",
            "50 anos de idade, TEM permissão para dirigir\n"
          ],
          "name": "stdout"
        }
      ]
    },
    {
      "cell_type": "markdown",
      "metadata": {
        "id": "dwFES0DMgFEm"
      },
      "source": [
        "# for dentro da função\n"
      ]
    },
    {
      "cell_type": "code",
      "metadata": {
        "colab": {
          "base_uri": "https://localhost:8080/"
        },
        "id": "P1-cqVo5eBNI",
        "outputId": "35e01ed6-72fd-42f2-d5e0-f6e5bccc10a5"
      },
      "source": [
        "def verifica_se_pode_dirigir(idades): \n",
        "  for idade in idades: \n",
        "    if idade >=18: \n",
        "      print(f'{idade} anos de idade, TEM permissão para dirigir')\n",
        "    else: \n",
        "      print(f'{idade} anos de idade, NÃO TEM permissão para dirigir')\n",
        "\n",
        "verifica_se_pode_dirigir(idades)\n",
        "      "
      ],
      "execution_count": null,
      "outputs": [
        {
          "output_type": "stream",
          "text": [
            "18 anos de idade, TEM permissão para dirigir\n",
            "22 anos de idade, TEM permissão para dirigir\n",
            "15 anos de idade, NÃO TEM permissão para dirigir\n",
            "50 anos de idade, TEM permissão para dirigir\n"
          ],
          "name": "stdout"
        }
      ]
    },
    {
      "cell_type": "markdown",
      "metadata": {
        "id": "dWoKkpZGoYYv"
      },
      "source": [
        "**Tipo Booleano**"
      ]
    },
    {
      "cell_type": "code",
      "metadata": {
        "colab": {
          "base_uri": "https://localhost:8080/"
        },
        "id": "xCR9EXCsodAU",
        "outputId": "272e1268-fe5e-466e-c4de-72dc064ee179"
      },
      "source": [
        "idade = 18\n",
        "idade >= 18"
      ],
      "execution_count": null,
      "outputs": [
        {
          "output_type": "execute_result",
          "data": {
            "text/plain": [
              "True"
            ]
          },
          "metadata": {
            "tags": []
          },
          "execution_count": 51
        }
      ]
    },
    {
      "cell_type": "code",
      "metadata": {
        "colab": {
          "base_uri": "https://localhost:8080/"
        },
        "id": "43ycEORmojj1",
        "outputId": "47686a27-67ec-4d72-c8ed-d7b39d7c8f55"
      },
      "source": [
        "idade = 15\n",
        "idade >= 18"
      ],
      "execution_count": null,
      "outputs": [
        {
          "output_type": "execute_result",
          "data": {
            "text/plain": [
              "False"
            ]
          },
          "metadata": {
            "tags": []
          },
          "execution_count": 52
        }
      ]
    },
    {
      "cell_type": "code",
      "metadata": {
        "id": "VXjNMPu4pp1y"
      },
      "source": [
        "permissoes = []\n",
        "idades = [20, 14, 40]\n",
        "\n",
        "def verifica_se_pode_dirigir(idades, permissoes): \n",
        "    for idade in idades: \n",
        "      if idade >=18: \n",
        "          permissoes.append(True)\n",
        "      else: \n",
        "          permissoes.append(False)\n",
        "verifica_se_pode_dirigir(idades, permissoes)"
      ],
      "execution_count": null,
      "outputs": []
    },
    {
      "cell_type": "code",
      "metadata": {
        "colab": {
          "base_uri": "https://localhost:8080/"
        },
        "id": "_eRcpSVTp_F6",
        "outputId": "8a833ff6-d2f0-4a58-a82c-e182708a6bda"
      },
      "source": [
        "permissoes"
      ],
      "execution_count": null,
      "outputs": [
        {
          "output_type": "execute_result",
          "data": {
            "text/plain": [
              "[True, False, True]"
            ]
          },
          "metadata": {
            "tags": []
          },
          "execution_count": 84
        }
      ]
    },
    {
      "cell_type": "code",
      "metadata": {
        "colab": {
          "base_uri": "https://localhost:8080/"
        },
        "id": "Boc8Pt27rTK6",
        "outputId": "014ea58d-0320-458e-c32a-c75c1c03bf95"
      },
      "source": [
        "for permissao in permissoes: \n",
        "  if permissao == True: \n",
        "    print('Tem permissão para dirigir')\n",
        "  else:\n",
        "    print('Não tem permissão para dirigir')\n",
        "\n",
        "\n"
      ],
      "execution_count": null,
      "outputs": [
        {
          "output_type": "stream",
          "text": [
            "Tem permissão para dirigir\n",
            "Não tem permissão para dirigir\n",
            "Tem permissão para dirigir\n"
          ],
          "name": "stdout"
        }
      ]
    },
    {
      "cell_type": "markdown",
      "metadata": {
        "id": "f-UcRqWvw8Rk"
      },
      "source": [
        "**Exercício**\n"
      ]
    },
    {
      "cell_type": "code",
      "metadata": {
        "colab": {
          "base_uri": "https://localhost:8080/"
        },
        "id": "MkcCJE42vlDr",
        "outputId": "2aeb6c6e-cde3-4625-8327-acc8b6b661f2"
      },
      "source": [
        "a=2\n",
        "\n",
        "if a < 2:\n",
        " a = a + 1\n",
        "else:\n",
        " a = a + 2\n",
        "if a < 4:\n",
        " a = a - 4\n",
        "else:\n",
        " a = a + 6\n",
        "\n",
        "a"
      ],
      "execution_count": null,
      "outputs": [
        {
          "output_type": "execute_result",
          "data": {
            "text/plain": [
              "10"
            ]
          },
          "metadata": {
            "tags": []
          },
          "execution_count": 88
        }
      ]
    },
    {
      "cell_type": "code",
      "metadata": {
        "colab": {
          "base_uri": "https://localhost:8080/"
        },
        "id": "GFoCTL_0vmLT",
        "outputId": "cb618720-cef3-4308-de52-471b1a152832"
      },
      "source": [
        "pi = 3.14\n",
        "type(pi)"
      ],
      "execution_count": null,
      "outputs": [
        {
          "output_type": "execute_result",
          "data": {
            "text/plain": [
              "float"
            ]
          },
          "metadata": {
            "tags": []
          },
          "execution_count": 89
        }
      ]
    },
    {
      "cell_type": "code",
      "metadata": {
        "id": "gdsI5Qi1yMGh"
      },
      "source": [
        ""
      ],
      "execution_count": null,
      "outputs": []
    },
    {
      "cell_type": "code",
      "metadata": {
        "id": "t45DNo2flQ0O"
      },
      "source": [
        ""
      ],
      "execution_count": null,
      "outputs": []
    },
    {
      "cell_type": "markdown",
      "metadata": {
        "id": "YbHBJFQylTa1"
      },
      "source": [
        "**Tipos em uma Lista**"
      ]
    },
    {
      "cell_type": "code",
      "metadata": {
        "colab": {
          "base_uri": "https://localhost:8080/"
        },
        "id": "oQvf7gwVoUAi",
        "outputId": "4582f8ef-f033-4ffc-9b87-49d9a1f13c56"
      },
      "source": [
        "lista = ['Guilherme', 28, True, '18']\n",
        "\n",
        "for elemento in lista: \n",
        "  print(f'O elemento {elemento} é do tipo: ', type(elemento))"
      ],
      "execution_count": null,
      "outputs": [
        {
          "output_type": "stream",
          "text": [
            "O elemento Guilherme é do tipo:  <class 'str'>\n",
            "O elemento 28 é do tipo:  <class 'int'>\n",
            "O elemento True é do tipo:  <class 'bool'>\n",
            "O elemento 18 é do tipo:  <class 'str'>\n"
          ],
          "name": "stdout"
        }
      ]
    },
    {
      "cell_type": "markdown",
      "metadata": {
        "id": "vR4RxYepxzBQ"
      },
      "source": [
        "**Import**"
      ]
    },
    {
      "cell_type": "code",
      "metadata": {
        "id": "ZiZo-If7x1Es"
      },
      "source": [
        "from random import randrange, seed"
      ],
      "execution_count": null,
      "outputs": []
    },
    {
      "cell_type": "code",
      "metadata": {
        "id": "P1hUo4S11rCd"
      },
      "source": [
        "seed(10)"
      ],
      "execution_count": null,
      "outputs": []
    },
    {
      "cell_type": "code",
      "metadata": {
        "colab": {
          "base_uri": "https://localhost:8080/"
        },
        "id": "ldt1ghD7x-NS",
        "outputId": "03e35875-4f0b-4b61-9a27-abf5376a2ed9"
      },
      "source": [
        "randrange(0,11)"
      ],
      "execution_count": null,
      "outputs": [
        {
          "output_type": "execute_result",
          "data": {
            "text/plain": [
              "9"
            ]
          },
          "metadata": {
            "tags": []
          },
          "execution_count": 29
        }
      ]
    },
    {
      "cell_type": "code",
      "metadata": {
        "colab": {
          "base_uri": "https://localhost:8080/"
        },
        "id": "gOibhWz3yOxk",
        "outputId": "ac48b719-f88c-4d13-9708-c8ceca6576f8"
      },
      "source": [
        "notas_matematica = []\n",
        "\n",
        "for notas in range(8):\n",
        " notas_matematica.append(randrange(0,11))\n",
        "\n",
        "notas_matematica\n",
        "\n",
        " \n",
        " "
      ],
      "execution_count": null,
      "outputs": [
        {
          "output_type": "execute_result",
          "data": {
            "text/plain": [
              "[4, 10, 2, 0, 8, 7, 5, 1]"
            ]
          },
          "metadata": {
            "tags": []
          },
          "execution_count": 52
        }
      ]
    },
    {
      "cell_type": "code",
      "metadata": {
        "colab": {
          "base_uri": "https://localhost:8080/"
        },
        "id": "dTcc6Eh3zcg0",
        "outputId": "7cb4c26a-0d08-4064-ef5d-5490ce207f22"
      },
      "source": [
        "len(notas_matematica)"
      ],
      "execution_count": null,
      "outputs": [
        {
          "output_type": "execute_result",
          "data": {
            "text/plain": [
              "8"
            ]
          },
          "metadata": {
            "tags": []
          },
          "execution_count": 53
        }
      ]
    },
    {
      "cell_type": "code",
      "metadata": {
        "id": "Xeh9LSEM1O9t"
      },
      "source": [
        ""
      ],
      "execution_count": null,
      "outputs": []
    },
    {
      "cell_type": "markdown",
      "metadata": {
        "id": "bvUuaRWvBQJO"
      },
      "source": [
        "**Criando um Gráfico**"
      ]
    },
    {
      "cell_type": "code",
      "metadata": {
        "id": "bI0AWMfRBWxC"
      },
      "source": [
        "import matplotlib.pyplot as plt\n"
      ],
      "execution_count": null,
      "outputs": []
    },
    {
      "cell_type": "code",
      "metadata": {
        "colab": {
          "base_uri": "https://localhost:8080/",
          "height": 295
        },
        "id": "No0pkVVXBdS4",
        "outputId": "5891a58c-c56b-4f38-c65c-8bae119bae68"
      },
      "source": [
        "x = list(range(1, 9))\n",
        "y = notas_matematica\n",
        "plt.plot(x, y, marker='o')\n",
        "plt.title('Notas de Matemática')\n",
        "plt.xlabel('Provas')\n",
        "plt.ylabel('Notas')\n",
        "plt.show()\n"
      ],
      "execution_count": null,
      "outputs": [
        {
          "output_type": "display_data",
          "data": {
            "image/png": "[encoded data removed]",
            "text/plain": [
              "<Figure size 432x288 with 1 Axes>"
            ]
          },
          "metadata": {
            "tags": [],
            "needs_background": "light"
          }
        }
      ]
    },
    {
      "cell_type": "code",
      "metadata": {
        "colab": {
          "base_uri": "https://localhost:8080/"
        },
        "id": "V7LSSuepCY15",
        "outputId": "86b7023a-b4fc-4273-e8e2-a23127f50d42"
      },
      "source": [
        "notas_matematica"
      ],
      "execution_count": null,
      "outputs": [
        {
          "output_type": "execute_result",
          "data": {
            "text/plain": [
              "[4, 10, 2, 0, 8, 7, 5, 1]"
            ]
          },
          "metadata": {
            "tags": []
          },
          "execution_count": 55
        }
      ]
    },
    {
      "cell_type": "code",
      "metadata": {
        "id": "sfqFTLoXGAZt"
      },
      "source": [
        ""
      ],
      "execution_count": null,
      "outputs": []
    }
  ]
}