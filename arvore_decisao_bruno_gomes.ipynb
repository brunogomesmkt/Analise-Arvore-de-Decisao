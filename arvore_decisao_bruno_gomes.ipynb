{
  "nbformat": 4,
  "nbformat_minor": 0,
  "metadata": {
    "colab": {
      "name": "arvore_decisao_bruno_gomes.ipynb",
      "provenance": []
    },
    "kernelspec": {
      "name": "python3",
      "display_name": "Python 3"
    },
    "language_info": {
      "name": "python"
    }
  },
  "cells": [
    {
      "cell_type": "markdown",
      "metadata": {
        "id": "vDUOb9i9I7mi"
      },
      "source": [
        "**Importação dos pacotes necessários:**\n",
        "\n",
        "\n"
      ]
    },
    {
      "cell_type": "code",
      "metadata": {
        "id": "54ogY2LfGqxe"
      },
      "source": [
        "import pandas as pd"
      ],
      "execution_count": 3,
      "outputs": []
    },
    {
      "cell_type": "markdown",
      "metadata": {
        "id": "C8lC0riCK_z5"
      },
      "source": [
        "**Importação dos dados e leitura:**"
      ]
    },
    {
      "cell_type": "markdown",
      "metadata": {
        "id": "dhGtFyjOUKye"
      },
      "source": [
        "Essa base de dados está disponivel em: https://www.kaggle.com/mlg-ulb/creditcardfraud"
      ]
    },
    {
      "cell_type": "code",
      "metadata": {
        "colab": {
          "base_uri": "https://localhost:8080/",
          "height": 224
        },
        "id": "PZp1_3TlJFx6",
        "outputId": "d2faf686-52d9-4d35-c8ac-213911952711"
      },
      "source": [
        "dados = pd.read_csv('/content/creditcard.csv')\n",
        "dados.head()"
      ],
      "execution_count": 4,
      "outputs": [
        {
          "output_type": "execute_result",
          "data": {
            "text/html": [
              "<div>\n",
              "<style scoped>\n",
              "    .dataframe tbody tr th:only-of-type {\n",
              "        vertical-align: middle;\n",
              "    }\n",
              "\n",
              "    .dataframe tbody tr th {\n",
              "        vertical-align: top;\n",
              "    }\n",
              "\n",
              "    .dataframe thead th {\n",
              "        text-align: right;\n",
              "    }\n",
              "</style>\n",
              "<table border=\"1\" class=\"dataframe\">\n",
              "  <thead>\n",
              "    <tr style=\"text-align: right;\">\n",
              "      <th></th>\n",
              "      <th>Time</th>\n",
              "      <th>V1</th>\n",
              "      <th>V2</th>\n",
              "      <th>V3</th>\n",
              "      <th>V4</th>\n",
              "      <th>V5</th>\n",
              "      <th>V6</th>\n",
              "      <th>V7</th>\n",
              "      <th>V8</th>\n",
              "      <th>V9</th>\n",
              "      <th>V10</th>\n",
              "      <th>V11</th>\n",
              "      <th>V12</th>\n",
              "      <th>V13</th>\n",
              "      <th>V14</th>\n",
              "      <th>V15</th>\n",
              "      <th>V16</th>\n",
              "      <th>V17</th>\n",
              "      <th>V18</th>\n",
              "      <th>V19</th>\n",
              "      <th>V20</th>\n",
              "      <th>V21</th>\n",
              "      <th>V22</th>\n",
              "      <th>V23</th>\n",
              "      <th>V24</th>\n",
              "      <th>V25</th>\n",
              "      <th>V26</th>\n",
              "      <th>V27</th>\n",
              "      <th>V28</th>\n",
              "      <th>Amount</th>\n",
              "      <th>Class</th>\n",
              "    </tr>\n",
              "  </thead>\n",
              "  <tbody>\n",
              "    <tr>\n",
              "      <th>0</th>\n",
              "      <td>0.0</td>\n",
              "      <td>-1.359807</td>\n",
              "      <td>-0.072781</td>\n",
              "      <td>2.536347</td>\n",
              "      <td>1.378155</td>\n",
              "      <td>-0.338321</td>\n",
              "      <td>0.462388</td>\n",
              "      <td>0.239599</td>\n",
              "      <td>0.098698</td>\n",
              "      <td>0.363787</td>\n",
              "      <td>0.090794</td>\n",
              "      <td>-0.551600</td>\n",
              "      <td>-0.617801</td>\n",
              "      <td>-0.991390</td>\n",
              "      <td>-0.311169</td>\n",
              "      <td>1.468177</td>\n",
              "      <td>-0.470401</td>\n",
              "      <td>0.207971</td>\n",
              "      <td>0.025791</td>\n",
              "      <td>0.403993</td>\n",
              "      <td>0.251412</td>\n",
              "      <td>-0.018307</td>\n",
              "      <td>0.277838</td>\n",
              "      <td>-0.110474</td>\n",
              "      <td>0.066928</td>\n",
              "      <td>0.128539</td>\n",
              "      <td>-0.189115</td>\n",
              "      <td>0.133558</td>\n",
              "      <td>-0.021053</td>\n",
              "      <td>149.62</td>\n",
              "      <td>0</td>\n",
              "    </tr>\n",
              "    <tr>\n",
              "      <th>1</th>\n",
              "      <td>0.0</td>\n",
              "      <td>1.191857</td>\n",
              "      <td>0.266151</td>\n",
              "      <td>0.166480</td>\n",
              "      <td>0.448154</td>\n",
              "      <td>0.060018</td>\n",
              "      <td>-0.082361</td>\n",
              "      <td>-0.078803</td>\n",
              "      <td>0.085102</td>\n",
              "      <td>-0.255425</td>\n",
              "      <td>-0.166974</td>\n",
              "      <td>1.612727</td>\n",
              "      <td>1.065235</td>\n",
              "      <td>0.489095</td>\n",
              "      <td>-0.143772</td>\n",
              "      <td>0.635558</td>\n",
              "      <td>0.463917</td>\n",
              "      <td>-0.114805</td>\n",
              "      <td>-0.183361</td>\n",
              "      <td>-0.145783</td>\n",
              "      <td>-0.069083</td>\n",
              "      <td>-0.225775</td>\n",
              "      <td>-0.638672</td>\n",
              "      <td>0.101288</td>\n",
              "      <td>-0.339846</td>\n",
              "      <td>0.167170</td>\n",
              "      <td>0.125895</td>\n",
              "      <td>-0.008983</td>\n",
              "      <td>0.014724</td>\n",
              "      <td>2.69</td>\n",
              "      <td>0</td>\n",
              "    </tr>\n",
              "    <tr>\n",
              "      <th>2</th>\n",
              "      <td>1.0</td>\n",
              "      <td>-1.358354</td>\n",
              "      <td>-1.340163</td>\n",
              "      <td>1.773209</td>\n",
              "      <td>0.379780</td>\n",
              "      <td>-0.503198</td>\n",
              "      <td>1.800499</td>\n",
              "      <td>0.791461</td>\n",
              "      <td>0.247676</td>\n",
              "      <td>-1.514654</td>\n",
              "      <td>0.207643</td>\n",
              "      <td>0.624501</td>\n",
              "      <td>0.066084</td>\n",
              "      <td>0.717293</td>\n",
              "      <td>-0.165946</td>\n",
              "      <td>2.345865</td>\n",
              "      <td>-2.890083</td>\n",
              "      <td>1.109969</td>\n",
              "      <td>-0.121359</td>\n",
              "      <td>-2.261857</td>\n",
              "      <td>0.524980</td>\n",
              "      <td>0.247998</td>\n",
              "      <td>0.771679</td>\n",
              "      <td>0.909412</td>\n",
              "      <td>-0.689281</td>\n",
              "      <td>-0.327642</td>\n",
              "      <td>-0.139097</td>\n",
              "      <td>-0.055353</td>\n",
              "      <td>-0.059752</td>\n",
              "      <td>378.66</td>\n",
              "      <td>0</td>\n",
              "    </tr>\n",
              "    <tr>\n",
              "      <th>3</th>\n",
              "      <td>1.0</td>\n",
              "      <td>-0.966272</td>\n",
              "      <td>-0.185226</td>\n",
              "      <td>1.792993</td>\n",
              "      <td>-0.863291</td>\n",
              "      <td>-0.010309</td>\n",
              "      <td>1.247203</td>\n",
              "      <td>0.237609</td>\n",
              "      <td>0.377436</td>\n",
              "      <td>-1.387024</td>\n",
              "      <td>-0.054952</td>\n",
              "      <td>-0.226487</td>\n",
              "      <td>0.178228</td>\n",
              "      <td>0.507757</td>\n",
              "      <td>-0.287924</td>\n",
              "      <td>-0.631418</td>\n",
              "      <td>-1.059647</td>\n",
              "      <td>-0.684093</td>\n",
              "      <td>1.965775</td>\n",
              "      <td>-1.232622</td>\n",
              "      <td>-0.208038</td>\n",
              "      <td>-0.108300</td>\n",
              "      <td>0.005274</td>\n",
              "      <td>-0.190321</td>\n",
              "      <td>-1.175575</td>\n",
              "      <td>0.647376</td>\n",
              "      <td>-0.221929</td>\n",
              "      <td>0.062723</td>\n",
              "      <td>0.061458</td>\n",
              "      <td>123.50</td>\n",
              "      <td>0</td>\n",
              "    </tr>\n",
              "    <tr>\n",
              "      <th>4</th>\n",
              "      <td>2.0</td>\n",
              "      <td>-1.158233</td>\n",
              "      <td>0.877737</td>\n",
              "      <td>1.548718</td>\n",
              "      <td>0.403034</td>\n",
              "      <td>-0.407193</td>\n",
              "      <td>0.095921</td>\n",
              "      <td>0.592941</td>\n",
              "      <td>-0.270533</td>\n",
              "      <td>0.817739</td>\n",
              "      <td>0.753074</td>\n",
              "      <td>-0.822843</td>\n",
              "      <td>0.538196</td>\n",
              "      <td>1.345852</td>\n",
              "      <td>-1.119670</td>\n",
              "      <td>0.175121</td>\n",
              "      <td>-0.451449</td>\n",
              "      <td>-0.237033</td>\n",
              "      <td>-0.038195</td>\n",
              "      <td>0.803487</td>\n",
              "      <td>0.408542</td>\n",
              "      <td>-0.009431</td>\n",
              "      <td>0.798278</td>\n",
              "      <td>-0.137458</td>\n",
              "      <td>0.141267</td>\n",
              "      <td>-0.206010</td>\n",
              "      <td>0.502292</td>\n",
              "      <td>0.219422</td>\n",
              "      <td>0.215153</td>\n",
              "      <td>69.99</td>\n",
              "      <td>0</td>\n",
              "    </tr>\n",
              "  </tbody>\n",
              "</table>\n",
              "</div>"
            ],
            "text/plain": [
              "   Time        V1        V2        V3  ...       V27       V28  Amount  Class\n",
              "0   0.0 -1.359807 -0.072781  2.536347  ...  0.133558 -0.021053  149.62      0\n",
              "1   0.0  1.191857  0.266151  0.166480  ... -0.008983  0.014724    2.69      0\n",
              "2   1.0 -1.358354 -1.340163  1.773209  ... -0.055353 -0.059752  378.66      0\n",
              "3   1.0 -0.966272 -0.185226  1.792993  ...  0.062723  0.061458  123.50      0\n",
              "4   2.0 -1.158233  0.877737  1.548718  ...  0.219422  0.215153   69.99      0\n",
              "\n",
              "[5 rows x 31 columns]"
            ]
          },
          "metadata": {},
          "execution_count": 4
        }
      ]
    },
    {
      "cell_type": "markdown",
      "metadata": {
        "id": "KmkXE_ksLX2I"
      },
      "source": [
        "**Análise breve dos dados de transação:**\n"
      ]
    },
    {
      "cell_type": "code",
      "metadata": {
        "colab": {
          "base_uri": "https://localhost:8080/"
        },
        "id": "sEdnPRTyLq-A",
        "outputId": "dbfa2b44-15b6-4382-c463-bfd1691233df"
      },
      "source": [
        "print(dados.isna().sum())"
      ],
      "execution_count": 5,
      "outputs": [
        {
          "output_type": "stream",
          "text": [
            "Time      0\n",
            "V1        0\n",
            "V2        0\n",
            "V3        0\n",
            "V4        0\n",
            "V5        0\n",
            "V6        0\n",
            "V7        0\n",
            "V8        0\n",
            "V9        0\n",
            "V10       0\n",
            "V11       0\n",
            "V12       0\n",
            "V13       0\n",
            "V14       0\n",
            "V15       0\n",
            "V16       0\n",
            "V17       0\n",
            "V18       0\n",
            "V19       0\n",
            "V20       0\n",
            "V21       0\n",
            "V22       0\n",
            "V23       0\n",
            "V24       0\n",
            "V25       0\n",
            "V26       0\n",
            "V27       0\n",
            "V28       0\n",
            "Amount    0\n",
            "Class     0\n",
            "dtype: int64\n"
          ],
          "name": "stdout"
        }
      ]
    },
    {
      "cell_type": "markdown",
      "metadata": {
        "id": "GxAjb7QQQNP3"
      },
      "source": [
        "**Verificando o número de transações e quantas transações são fraudes e a porcentagem delas:**"
      ]
    },
    {
      "cell_type": "code",
      "metadata": {
        "colab": {
          "base_uri": "https://localhost:8080/"
        },
        "id": "fSjmxxY2PPJJ",
        "outputId": "3d16252c-79c3-4e37-822a-6063f13528fb"
      },
      "source": [
        "n_transacoes = dados ['Class'].count()\n",
        "n_fraudes = dados['Class'].sum()\n",
        "n_normais = n_transacoes - n_fraudes\n",
        "fraudes_porc = n_fraudes / n_transacoes\n",
        "normais_porc = n_normais / n_transacoes\n",
        "\n",
        "\n",
        "print('Número de transações: ', n_transacoes)\n",
        "print('Número de fraudes: ', n_fraudes, '%.2f' %(fraudes_porc*100))\n",
        "print('Número de transações normais: ', n_normais, '%.2f' %(normais_porc*100))\n"
      ],
      "execution_count": 18,
      "outputs": [
        {
          "output_type": "stream",
          "text": [
            "Número de transações:  284807\n",
            "Número de fraudes:  492 0.17\n",
            "Número de transações normais:  284315 99.83\n"
          ],
          "name": "stdout"
        }
      ]
    },
    {
      "cell_type": "markdown",
      "metadata": {
        "id": "samJAYsLVTR1"
      },
      "source": [
        "**Criação da Árvore de decisão com o scikit-learn:**"
      ]
    },
    {
      "cell_type": "code",
      "metadata": {
        "id": "RTBvx4dtVfc8"
      },
      "source": [
        "from sklearn.model_selection import StratifiedShuffleSplit\n",
        "\n",
        "def executar_validador(x, y):\n",
        "  validador = StratifiedShuffleSplit(n_splits=1, test_size=0.1, random_state=0)\n",
        "  for treino_id, teste_id in validador.split(x, y):\n",
        "    x_train, x_test = x[treino_id], x[teste_id]\n",
        "    y_train, y_test = y[treino_id], y[teste_id]\n",
        "  return x_train, x_test, y_train, y_test\n",
        " "
      ],
      "execution_count": 27,
      "outputs": []
    },
    {
      "cell_type": "markdown",
      "metadata": {
        "id": "DuND8SAjZRIL"
      },
      "source": [
        "**Árvore de Decisão:**"
      ]
    },
    {
      "cell_type": "code",
      "metadata": {
        "colab": {
          "base_uri": "https://localhost:8080/"
        },
        "id": "e9169v4nYbps",
        "outputId": "cbe9d779-38f0-4249-c6a8-7d61102f1938"
      },
      "source": [
        "%%time\n",
        "from sklearn import tree\n",
        "\n",
        "def executar_classificador(classificador, x_train, x_test, y_train):\n",
        "\n",
        "    arvore = classificador.fit(x_train, y_train)\n",
        "    y_pred = arvore.predict(x_test)\n",
        "    return y_pred"
      ],
      "execution_count": 33,
      "outputs": [
        {
          "output_type": "stream",
          "text": [
            "CPU times: user 21 µs, sys: 1 µs, total: 22 µs\n",
            "Wall time: 28.8 µs\n"
          ],
          "name": "stdout"
        }
      ]
    },
    {
      "cell_type": "markdown",
      "metadata": {
        "id": "wGR2FKOPsS73"
      },
      "source": [
        "**Visualização dos Dados:**"
      ]
    },
    {
      "cell_type": "code",
      "metadata": {
        "id": "RHO4E0sdk1cC"
      },
      "source": [
        "import matplotlib.pyplot as plt\n",
        "\n",
        "def salvar_arvore(classificador, nome):\n",
        "  plt.figure(figsize=(200,100))\n",
        "  tree.plot_tree(classificador, filled=True, fontsize=14)\n",
        "  plt.savefig(nome)\n",
        "  plt.close()\n"
      ],
      "execution_count": 53,
      "outputs": []
    },
    {
      "cell_type": "markdown",
      "metadata": {
        "id": "NV-qtKmSs0te"
      },
      "source": [
        "**Medindo a Acurácia da Árvore:**"
      ]
    },
    {
      "cell_type": "code",
      "metadata": {
        "id": "raoz4rJrsc3l"
      },
      "source": [
        "from sklearn.metrics import accuracy_score\n",
        "from sklearn.metrics import confusion_matrix\n",
        "from sklearn.metrics import precision_score\n",
        "from sklearn.metrics import recall_score\n",
        "\n",
        "def validar_arvore(y_test, y_pred):\n",
        "  print(accuracy_score(y_test, y_pred))\n",
        "  print(precision_score(y_test, y_pred))\n",
        "  print(recall_score(y_test, y_pred))\n",
        "  print(confusion_matrix(y_test, y_pred))\n",
        "  "
      ],
      "execution_count": 67,
      "outputs": []
    },
    {
      "cell_type": "markdown",
      "metadata": {
        "id": "Njj71RvAln-J"
      },
      "source": [
        "**Execução do Validador:**"
      ]
    },
    {
      "cell_type": "code",
      "metadata": {
        "id": "0M3uYd-rWz3d"
      },
      "source": [
        "x = dados.drop('Class', axis=1).values\n",
        "y = dados['Class'].values\n",
        "x_train, x_test, y_train, y_test = executar_validador(x, y)\n"
      ],
      "execution_count": 39,
      "outputs": []
    },
    {
      "cell_type": "markdown",
      "metadata": {
        "id": "rq2TmaTMmAQ-"
      },
      "source": [
        "**Execução do Classificador DescisionTreeClassifier:**"
      ]
    },
    {
      "cell_type": "code",
      "metadata": {
        "id": "-7d25Nugl9am"
      },
      "source": [
        "classificador_arvore_decisao = tree.DecisionTreeClassifier()\n",
        "y_pred_arvore_decisao = executar_classificador(classificador_arvore_decisao, x_train, x_test, y_train)"
      ],
      "execution_count": 40,
      "outputs": []
    },
    {
      "cell_type": "markdown",
      "metadata": {
        "id": "GNGSgZoUmOmI"
      },
      "source": [
        "**Criação da Figura da Árvore de Decisão:**"
      ]
    },
    {
      "cell_type": "code",
      "metadata": {
        "id": "_GeukdSymYwa"
      },
      "source": [
        "salvar_arvore(classificador_arvore_decisao, \"arvore_decisao1.png\")"
      ],
      "execution_count": 49,
      "outputs": []
    },
    {
      "cell_type": "markdown",
      "metadata": {
        "id": "TeQKia3ntZE2"
      },
      "source": [
        "**Validação da Ávore de Decisão:**"
      ]
    },
    {
      "cell_type": "code",
      "metadata": {
        "colab": {
          "base_uri": "https://localhost:8080/"
        },
        "id": "_6b6VIY9tXIo",
        "outputId": "b2994c58-f947-43a9-956b-2a751423b781"
      },
      "source": [
        "validar_arvore(y_test, y_pred_arvore_decisao)"
      ],
      "execution_count": 68,
      "outputs": [
        {
          "output_type": "stream",
          "text": [
            "0.9990168884519505\n",
            "0.7058823529411765\n",
            "0.7346938775510204\n",
            "[[28417    15]\n",
            " [   13    36]]\n"
          ],
          "name": "stdout"
        }
      ]
    },
    {
      "cell_type": "markdown",
      "metadata": {
        "id": "jp46ELPSxyYV"
      },
      "source": [
        "**Avaliação dos Parâmetros:**"
      ]
    },
    {
      "cell_type": "code",
      "metadata": {
        "colab": {
          "base_uri": "https://localhost:8080/"
        },
        "id": "APT0V3_ExmiV",
        "outputId": "cca30d95-b1a7-471c-93bf-ee8584e722bd"
      },
      "source": [
        "print(classificador_arvore_decisao)\n",
        "print(classificador_arvore_decisao.get_depth())"
      ],
      "execution_count": 76,
      "outputs": [
        {
          "output_type": "stream",
          "text": [
            "DecisionTreeClassifier(ccp_alpha=0.0, class_weight=None, criterion='gini',\n",
            "                       max_depth=10, max_features=None, max_leaf_nodes=None,\n",
            "                       min_impurity_decrease=0.0, min_impurity_split=None,\n",
            "                       min_samples_leaf=1, min_samples_split=2,\n",
            "                       min_weight_fraction_leaf=0.0, presort='deprecated',\n",
            "                       random_state=0, splitter='best')\n",
            "10\n"
          ],
          "name": "stdout"
        }
      ]
    },
    {
      "cell_type": "markdown",
      "metadata": {
        "id": "s1_uDNHHzTic"
      },
      "source": [
        "Execução do Classificador DecisionTreeClassifier (**ESSA É A MELHOR DECISÃO**):\n"
      ]
    },
    {
      "cell_type": "code",
      "metadata": {
        "colab": {
          "base_uri": "https://localhost:8080/"
        },
        "id": "Dxw3Sf1nyguY",
        "outputId": "c37398c5-d488-4f2f-d8e5-23506d72a441"
      },
      "source": [
        "%%time\n",
        "classificador_arvore_decisao = tree.DecisionTreeClassifier(max_depth=10, random_state=0)\n",
        "y_pred_arvore_decisao = executar_classificador(classificador_arvore_decisao, x_train, x_test, y_train)"
      ],
      "execution_count": 89,
      "outputs": [
        {
          "output_type": "stream",
          "text": [
            "CPU times: user 19.5 s, sys: 24.9 ms, total: 19.5 s\n",
            "Wall time: 19.5 s\n"
          ],
          "name": "stdout"
        }
      ]
    },
    {
      "cell_type": "code",
      "metadata": {
        "colab": {
          "base_uri": "https://localhost:8080/"
        },
        "id": "8eLWaQHzy6aN",
        "outputId": "4d1ba36d-0cf9-4980-b807-257e2e0751ae"
      },
      "source": [
        "validar_arvore(y_test, y_pred_arvore_decisao)"
      ],
      "execution_count": 72,
      "outputs": [
        {
          "output_type": "stream",
          "text": [
            "0.9994733330992591\n",
            "0.9473684210526315\n",
            "0.7346938775510204\n",
            "[[28430     2]\n",
            " [   13    36]]\n"
          ],
          "name": "stdout"
        }
      ]
    },
    {
      "cell_type": "markdown",
      "metadata": {
        "id": "D93pM0X0zf-F"
      },
      "source": [
        "Execução do Classificador DecisionTreeClassifier **(ESSA NÃO É A MELHOR DECISÃO):**\n"
      ]
    },
    {
      "cell_type": "code",
      "metadata": {
        "id": "Q4oII4JezNtE"
      },
      "source": [
        "classificador_arvore_decisao = tree.DecisionTreeClassifier(max_depth=10, random_state=0, min_samples_leaf=10)\n",
        "y_pred_arvore_decisao = executar_classificador(classificador_arvore_decisao, x_train, x_test, y_train)"
      ],
      "execution_count": 78,
      "outputs": []
    },
    {
      "cell_type": "markdown",
      "metadata": {
        "id": "1EMh3UrwzybM"
      },
      "source": [
        "Validação da Ávore:"
      ]
    },
    {
      "cell_type": "code",
      "metadata": {
        "colab": {
          "base_uri": "https://localhost:8080/"
        },
        "id": "YTn3B-Gizolf",
        "outputId": "e99dbfc0-e86f-429b-a823-561c052d4ce3"
      },
      "source": [
        "validar_arvore(y_test, y_pred_arvore_decisao)"
      ],
      "execution_count": 79,
      "outputs": [
        {
          "output_type": "stream",
          "text": [
            "0.9993679997191109\n",
            "0.8604651162790697\n",
            "0.7551020408163265\n",
            "[[28426     6]\n",
            " [   12    37]]\n"
          ],
          "name": "stdout"
        }
      ]
    },
    {
      "cell_type": "markdown",
      "metadata": {
        "id": "I9LNVeu_39Nz"
      },
      "source": [
        "Diminuição da Profundidade da Árvore **piorou** o resultado. **(Diminuição para max_depth=5)**"
      ]
    },
    {
      "cell_type": "code",
      "metadata": {
        "id": "l7Rdj_8g3EIO"
      },
      "source": [
        "classificador_arvore_decisao = tree.DecisionTreeClassifier(max_depth=5, random_state=0)\n",
        "y_pred_arvore_decisao = executar_classificador(classificador_arvore_decisao, x_train, x_test, y_train)"
      ],
      "execution_count": 80,
      "outputs": []
    },
    {
      "cell_type": "code",
      "metadata": {
        "colab": {
          "base_uri": "https://localhost:8080/"
        },
        "id": "twS6ExtK3hST",
        "outputId": "de0006fd-1c2e-4716-af17-7ea235100944"
      },
      "source": [
        "validar_arvore(y_test, y_pred_arvore_decisao)"
      ],
      "execution_count": 81,
      "outputs": [
        {
          "output_type": "stream",
          "text": [
            "0.999403110845827\n",
            "0.9210526315789473\n",
            "0.7142857142857143\n",
            "[[28429     3]\n",
            " [   14    35]]\n"
          ],
          "name": "stdout"
        }
      ]
    },
    {
      "cell_type": "markdown",
      "metadata": {
        "id": "AgnPWnRJ9eB5"
      },
      "source": [
        "**Executando o Random Forest com o scikit-learn**\n",
        "\n",
        "\n"
      ]
    },
    {
      "cell_type": "code",
      "metadata": {
        "colab": {
          "base_uri": "https://localhost:8080/"
        },
        "id": "khvrENbb9jmK",
        "outputId": "bbe56fdb-9b93-484e-c7df-c0f1cd69fc2b"
      },
      "source": [
        "%%time\n",
        "from sklearn.ensemble import RandomForestClassifier\n",
        "\n",
        "classificador_random_forest = RandomForestClassifier(n_estimators=50, random_state=0, max_depth=10)\n",
        "y_pred_random_forest = executar_classificador(classificador_random_forest, x_train, x_test, y_train)"
      ],
      "execution_count": 87,
      "outputs": [
        {
          "output_type": "stream",
          "text": [
            "CPU times: user 2min 1s, sys: 130 ms, total: 2min 1s\n",
            "Wall time: 2min 1s\n"
          ],
          "name": "stdout"
        }
      ]
    },
    {
      "cell_type": "code",
      "metadata": {
        "colab": {
          "base_uri": "https://localhost:8080/"
        },
        "id": "mzKJvn0X_eZJ",
        "outputId": "f41ce39f-dfdc-475a-b50c-a0a568450ead"
      },
      "source": [
        "validar_arvore(y_test, y_pred_random_forest)"
      ],
      "execution_count": 88,
      "outputs": [
        {
          "output_type": "stream",
          "text": [
            "0.9995435553526912\n",
            "0.9736842105263158\n",
            "0.7551020408163265\n",
            "[[28431     1]\n",
            " [   12    37]]\n"
          ],
          "name": "stdout"
        }
      ]
    },
    {
      "cell_type": "code",
      "metadata": {
        "id": "5Fx8Mf0i_sy9"
      },
      "source": [
        "\n",
        "from sklearn.ensemble import RandomForestClassifier\n",
        "\n",
        "classificador_random_forest = RandomForestClassifier(n_estimators=100, random_state=0)\n",
        "y_pred_random_forest = executar_classificador(classificador_random_forest, x_train, x_test, y_train) "
      ],
      "execution_count": 93,
      "outputs": []
    },
    {
      "cell_type": "code",
      "metadata": {
        "id": "rIf5vaxwBrh7"
      },
      "source": [
        "salvar_arvore(classificador_random_forest.estimators_[0], 'reandom_forest1')\n",
        "salvar_arvore(classificador_random_forest.estimators_[1], 'reandom_forest2')"
      ],
      "execution_count": 94,
      "outputs": []
    },
    {
      "cell_type": "code",
      "metadata": {
        "colab": {
          "base_uri": "https://localhost:8080/"
        },
        "id": "Y9uKAErcDC8q",
        "outputId": "33f5b3d2-de10-4ec6-e94c-2213f75e3448"
      },
      "source": [
        "validar_arvore(y_test, y_pred_random_forest)"
      ],
      "execution_count": 95,
      "outputs": [
        {
          "output_type": "stream",
          "text": [
            "0.9995084442259752\n",
            "0.9487179487179487\n",
            "0.7551020408163265\n",
            "[[28430     2]\n",
            " [   12    37]]\n"
          ],
          "name": "stdout"
        }
      ]
    },
    {
      "cell_type": "code",
      "metadata": {
        "colab": {
          "base_uri": "https://localhost:8080/"
        },
        "id": "rxkM-P41D0nH",
        "outputId": "99d27e57-102d-4bfe-8a2d-a4a137f67861"
      },
      "source": [
        "%%time\n",
        "from sklearn.ensemble import RandomForestClassifier\n",
        "\n",
        "classificador_random_forest = RandomForestClassifier(n_estimators=50, random_state=0, max_depth=10)\n",
        "y_pred_random_forest = executar_classificador(classificador_random_forest, x_train, x_test, y_train) "
      ],
      "execution_count": 96,
      "outputs": [
        {
          "output_type": "stream",
          "text": [
            "CPU times: user 1min 55s, sys: 150 ms, total: 1min 55s\n",
            "Wall time: 1min 55s\n"
          ],
          "name": "stdout"
        }
      ]
    },
    {
      "cell_type": "code",
      "metadata": {
        "colab": {
          "base_uri": "https://localhost:8080/"
        },
        "id": "PD_y2GOFECrg",
        "outputId": "9f9dfbe2-6d28-431d-9262-e1ac1245b5e1"
      },
      "source": [
        "validar_arvore(y_test, y_pred_random_forest)"
      ],
      "execution_count": 97,
      "outputs": [
        {
          "output_type": "stream",
          "text": [
            "0.9995435553526912\n",
            "0.9736842105263158\n",
            "0.7551020408163265\n",
            "[[28431     1]\n",
            " [   12    37]]\n"
          ],
          "name": "stdout"
        }
      ]
    }
  ]
}